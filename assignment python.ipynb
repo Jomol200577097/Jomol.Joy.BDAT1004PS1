{
 "cells": [
  {
   "cell_type": "code",
   "execution_count": null,
   "id": "ce4ab7af",
   "metadata": {},
   "outputs": [],
   "source": [
    "#Question 1\n",
    "'''What data type is each of the following?\n",
    "a)5 \n",
    "b)5.0\n",
    "c)5 > 1\n",
    "d)'5'\n",
    "e)5 * 2\n",
    "f)'5' * 2\n",
    "g)'5' + '2'\n",
    "h)5 / 2\n",
    "i)5 % 2\n",
    "j){5, 2, 1}\n",
    "k)5 == 3\n",
    "l)Pi (the number)\n",
    "\n",
    "Solution\n",
    "a)Integer\n",
    "b)Float\n",
    "c)Boolean\n",
    "d)String\n",
    "e)Integer\n",
    "f)String\n",
    "g)String\n",
    "h)Float\n",
    "i)Integer\n",
    "j)set\n",
    "k)Boolean\n",
    "l)Float'''"
   ]
  },
  {
   "cell_type": "code",
   "execution_count": null,
   "id": "6cebf197",
   "metadata": {},
   "outputs": [],
   "source": [
    "#Question 2\n",
    "'''Write (and evaluate) C# expressions that answer these questions:\n",
    "a. How many letters are there in 'Supercalifragilisticexpialidocious'?\n",
    "\n",
    "solution \n",
    "input:\n",
    "\n",
    "string x=\"Supercalifragilisticexpialidocious\";\n",
    "Console.WriteLine(word.Length);\n",
    "\n",
    "output:\n",
    "34\n",
    "\n",
    "b. Does 'Supercalifragilisticexpialidocious' contain 'ice' as a substring? \n",
    "\n",
    "solution\n",
    "input:\n",
    "\n",
    "string x = \"Supercalifragilisticexpialidocious\";\n",
    "Console.WriteLine(word.Contains(\"ice\"));\n",
    "\n",
    "output:\n",
    "True\n",
    "\n",
    "c.Which of the following words is the longest: \n",
    "Supercalifragilisticexpialidocious, Honorificabilitudinitatibus, or \n",
    "Bababadalgharaghtakamminarronnkonn? \n",
    "\n",
    "Solution\n",
    "Input:\n",
    "using System;\n",
    "\n",
    "class Word\n",
    "{\n",
    "    static void Main()\n",
    "    {\n",
    "        string a = \"Supercalifragilisticexpialidocious\";\n",
    "        string b = \"Honorificabilitudinitatibus\";\n",
    "        string c = \"Bababadalgharaghtakamminarronnkonn\";\n",
    "\n",
    "        string LongestWord = GetLongestWord(a, b, c);\n",
    "\n",
    "        Console.WriteLine($\"The longest word is: {LongestWord}\");\n",
    "    }\n",
    "\n",
    "    static string GetLongestWord(params string[] words)\n",
    "    {\n",
    "        string LongestWord = \"\";\n",
    "        foreach (string word in words)\n",
    "        {\n",
    "            if (word.Length > LongestWord.Length)\n",
    "            {\n",
    "                LongestWord = word;\n",
    "            }\n",
    "        }\n",
    "        return LongestWord;\n",
    "    }\n",
    "}\n",
    "output:\n",
    "The longest word is: Supercalifragilisticexpialidocious\n",
    "\n",
    "d.Which composer comes first in the dictionary: 'Berlioz', 'Borodin', 'Brian', \n",
    "'Bartok', 'Bellini', 'Buxtehude', 'Bernstein'. Which one comes last?\n",
    "\n",
    "Solution\n",
    "input\n",
    "var composer = new SortedSet<string>();\n",
    "          composer.Add(\"Berlioz\");\n",
    "          composer.Add(\"Borodin\");\n",
    "          composer.Add(\"Brian\");\n",
    "          composer.Add(\"Bartok\");\n",
    "          composer.Add(\"Bellini\");\n",
    "          composer.Add(\"Buxtehude\");\n",
    "          composer.Add(\"Bernstein\");\n",
    "            Console.WriteLine(\"First element in the dictionary is \" + composer.First());\n",
    "            Console.WriteLine(\"Last element in the dictionary is \" + composer.Last());\n",
    "\n",
    "output:\n",
    "First element in the dictionary is Bartok\n",
    "Last element in the dictionary is Buxtehude'''"
   ]
  },
  {
   "cell_type": "code",
   "execution_count": null,
   "id": "783e168c",
   "metadata": {},
   "outputs": [],
   "source": [
    "#Question 3\n",
    "'''\n",
    "input:\n",
    "\n",
    "public class Triangle\n",
    "{\n",
    "    public static void Main(string[] args)\n",
    "    {\n",
    "        int a;\n",
    "        Console.WriteLine(\"Enter the side first of the triangle\");\n",
    "        a = int.Parse(Console.ReadLine());\n",
    "        Console.WriteLine(\"Enter the side second of the triangle\");\n",
    "        int b = int.Parse(Console.ReadLine());\n",
    "        Console.WriteLine(\"Enter the side third of the triangle\");\n",
    "        int c = int.Parse(Console.ReadLine());\n",
    "        double result = triangleArea(a, b, c);\n",
    "        Console.WriteLine(result);\n",
    "\n",
    "        static double triangleArea(double a, double b, double c)\n",
    "        {\n",
    "\n",
    "            double s = (a + b + c) / 2;\n",
    "\n",
    "\n",
    "            double area = Math.Sqrt(s * (s - a) * (s - b) * (s - c));\n",
    "\n",
    "            return area;\n",
    "        }\n",
    "    }\n",
    "}\n",
    "output:\n",
    "Enter the side first of the triangle\n",
    "2\n",
    "Enter the side second of the triangle\n",
    "2\n",
    "Enter the side third of the triangle\n",
    "2\n",
    "1.7320508075688772\n",
    "\n",
    "''''\n"
   ]
  },
  {
   "cell_type": "code",
   "execution_count": null,
   "id": "8b53b88e",
   "metadata": {},
   "outputs": [],
   "source": [
    "#Question 4\n",
    "''''input:\n",
    "\n",
    "\n",
    "using System;\n",
    "\n",
    "class Word\n",
    "{\n",
    "    static void Main()\n",
    "    {\n",
    "        Console.Write(\"Input the number of elements to be stored in the array: \");\n",
    "        int n = Convert.ToInt32(Console.ReadLine());\n",
    "\n",
    "        int[] array = new int[n];\n",
    "\n",
    "        Console.WriteLine($\"Input {n} elements in the array:\");\n",
    "\n",
    "        for (int i = 0; i < n; i++)\n",
    "        {\n",
    "            Console.Write($\"element - {i} : \");\n",
    "            array[i] = Convert.ToInt32(Console.ReadLine());\n",
    "        }\n",
    "\n",
    "        // Separate odd and even elements\n",
    "        int[] evenArray = new int[n];\n",
    "        int[] oddArray = new int[n];\n",
    "        int evenCount = 0, oddCount = 0;\n",
    "\n",
    "        foreach (int num in array)\n",
    "        {\n",
    "            if (num % 2 == 0)\n",
    "            {\n",
    "                evenArray[evenCount] = num;\n",
    "                evenCount++;\n",
    "            }\n",
    "            else\n",
    "            {\n",
    "                oddArray[oddCount] = num;\n",
    "                oddCount++;\n",
    "            }\n",
    "        }\n",
    "\n",
    "        // Display the results\n",
    "        Console.WriteLine(\"The Even elements are:\");\n",
    "        DisplayArray(evenArray, evenCount);\n",
    "\n",
    "        Console.WriteLine(\"The Odd elements are:\");\n",
    "        DisplayArray(oddArray, oddCount);\n",
    "    }\n",
    "\n",
    "    static void DisplayArray(int[] arr, int count)\n",
    "    {\n",
    "        for (int i = 0; i < count; i++)\n",
    "        {\n",
    "            Console.Write(arr[i] + \" \");\n",
    "        }\n",
    "        Console.WriteLine();\n",
    "    }\n",
    "}\n",
    "\n",
    "output:\n",
    "Input the number of elements to be stored in the array: 5\n",
    "Input 5 elements in the array:\n",
    "element - 0 : 1\n",
    "element - 1 : 2\n",
    "element - 2 : 3\n",
    "element - 3 : 4\n",
    "element - 4 : 5\n",
    "The Even elements are:\n",
    "2 4\n",
    "The Odd elements are:\n",
    "1 3 5\n"
   ]
  },
  {
   "cell_type": "code",
   "execution_count": null,
   "id": "ccc775f5",
   "metadata": {},
   "outputs": [],
   "source": [
    "#Question 5\n",
    "'''#Question 5.a.\n",
    "\n",
    "class Number\n",
    "{\n",
    "    static void Main()\n",
    "    {\n",
    "\n",
    "        Console.WriteLine(\"Enter the x coordinate\");\n",
    "        double x = double.Parse(Console.ReadLine());\n",
    "        Console.WriteLine(\"Enter the y coordinate\");\n",
    "        double y = double.Parse(Console.ReadLine());\n",
    "        Console.WriteLine(\"Enter the x coordinate of lower left corner\");\n",
    "        double x1 = double.Parse(Console.ReadLine());\n",
    "        Console.WriteLine(\"Enter the y coordinate of lower left corner\");\n",
    "        double y1 = double.Parse(Console.ReadLine());\n",
    "        Console.WriteLine(\"Enter the x coordinate of upper right corner\");\n",
    "        double x2 = double.Parse(Console.ReadLine());\n",
    "        Console.WriteLine(\"Enter the y coordinate of upper right corner\");\n",
    "        double y2 = double.Parse(Console.ReadLine());\n",
    "        bool result = inside(x, y, x1, y1, x2, y2);\n",
    "        Console.WriteLine(result);\n",
    "\n",
    "\n",
    "        //question5.b\n",
    "\n",
    "\n",
    "        if (inside(1, 1, 0.3, 0.5, 1.1, 0.7) == true && inside(1, 1, 0.5, 0.2, 1.1, 2) == true)\n",
    "        {\n",
    "            Console.WriteLine(\"The coordinate (1,1) lies inside both the rectangles\");\n",
    "        }\n",
    "        else\n",
    "        {\n",
    "            Console.WriteLine(\"The coordinate (1,1) does not lies inside both the rectangles\");\n",
    "        }// Output: True\n",
    "    }\n",
    "\n",
    "    static bool inside(double x, double y, double x1, double y1, double x2, double y2)\n",
    "    {\n",
    "        // Check if (x, y) is inside the rectangle or not\n",
    "        return x > x1 && x < x2 && y > y1 && y < y2;\n",
    "    }\n",
    "}'''\n"
   ]
  },
  {
   "cell_type": "code",
   "execution_count": 17,
   "id": "ad23ec8f",
   "metadata": {},
   "outputs": [
    {
     "name": "stdout",
     "output_type": "stream",
     "text": [
      "answer1 : appyhay\n",
      "answer2 : enterway\n"
     ]
    }
   ],
   "source": [
    "#question 6\n",
    "def name(word):\n",
    "    # Converting into lowercase\n",
    "    word = word.lower()\n",
    "\n",
    "    if word[0] in ['a', 'e', 'i', 'o', 'u']: #if its vowel append 'way' in the end \n",
    "        return word + 'way'\n",
    "    else:\n",
    "        # if its a consonat move the first word to the end and append 'ay'\n",
    "        return word[1:] + word[0] + 'ay'\n",
    "\n",
    "answer1 = name('happy')\n",
    "answer2 = name('Enter')\n",
    "\n",
    "print(f\"answer1 : {answer1}\") \n",
    "print(f\"answer2 : {answer2}\") "
   ]
  },
  {
   "cell_type": "code",
   "execution_count": 36,
   "id": "cea8efbd",
   "metadata": {},
   "outputs": [
    {
     "name": "stdout",
     "output_type": "stream",
     "text": [
      "There are  15 Patients of Blood Type A\n",
      "There are  1 Patients of Blood Type B\n",
      "There are  13 Patients of Blood Type AB\n",
      "There are  15 Patients of Blood Type O\n"
     ]
    }
   ],
   "source": [
    "#question7\n",
    "def blood(filename):\n",
    "    infile = open(filename)\n",
    "    content=infile.read()\n",
    "    infile.close()\n",
    "    wordList = content.split(' ')\n",
    "    A_count=wordList.count('A')\n",
    "    B_count=wordList.count('B')\n",
    "    AB_count=wordList.count('AB')\n",
    "    O_count=wordList.count('O')\n",
    "    print('There are ',A_count,'Patients of Blood Type A')\n",
    "    print('There are ',B_count,'Patients of Blood Type B')\n",
    "    print('There are ',AB_count,'Patients of Blood Type AB')\n",
    "    print('There are ',O_count,'Patients of Blood Type O')\n",
    "\n",
    "\n",
    "blood('bloodtype1.txt')    \n",
    "    "
   ]
  },
  {
   "cell_type": "code",
   "execution_count": 40,
   "id": "671c1274",
   "metadata": {},
   "outputs": [
    {
     "name": "stdout",
     "output_type": "stream",
     "text": [
      "result_eur: 122.96544\n",
      "result_jpy: 1.241401\n"
     ]
    }
   ],
   "source": [
    "#question 8\n",
    "def curconv(currency, amount):\n",
    "    \n",
    "    currency_rates = {}\n",
    "    with open('currencies.txt', 'r') as file:\n",
    "        for line in file:\n",
    "            code, rate, *name = line.split()\n",
    "            currency_rates[code] = float(rate)\n",
    "\n",
    "    # Convert to US dollars\n",
    "    if currency.upper() in currency_rates:\n",
    "        us_dollars = amount * currency_rates[currency.upper()]\n",
    "        return us_dollars\n",
    "    else:\n",
    "        return \"Invalid code\"\n",
    "\n",
    "eur = curconv('EUR', 100)\n",
    "jpy = curconv('JPY', 100)\n",
    "\n",
    "print(f\"result_eur: {eur}\") \n",
    "print(f\"result_jpy: {jpy}\")        "
   ]
  },
  {
   "cell_type": "code",
   "execution_count": 24,
   "id": "af0e8f56",
   "metadata": {},
   "outputs": [
    {
     "ename": "TypeError",
     "evalue": "unsupported operand type(s) for +: 'int' and 'str'",
     "output_type": "error",
     "traceback": [
      "\u001b[1;31m---------------------------------------------------------------------------\u001b[0m",
      "\u001b[1;31mTypeError\u001b[0m                                 Traceback (most recent call last)",
      "Cell \u001b[1;32mIn[24], line 3\u001b[0m\n\u001b[0;32m      1\u001b[0m \u001b[38;5;66;03m#Question 9\u001b[39;00m\n\u001b[0;32m      2\u001b[0m \u001b[38;5;66;03m#type error\u001b[39;00m\n\u001b[1;32m----> 3\u001b[0m \u001b[38;5;241m6\u001b[39m\u001b[38;5;241m+\u001b[39m\u001b[38;5;124m'\u001b[39m\u001b[38;5;124ma\u001b[39m\u001b[38;5;124m'\u001b[39m\n",
      "\u001b[1;31mTypeError\u001b[0m: unsupported operand type(s) for +: 'int' and 'str'"
     ]
    }
   ],
   "source": [
    "#Question 9\n",
    "#type error\n",
    "6+'a'\n"
   ]
  },
  {
   "cell_type": "code",
   "execution_count": 23,
   "id": "5549a956",
   "metadata": {},
   "outputs": [
    {
     "ename": "IndexError",
     "evalue": "list index out of range",
     "output_type": "error",
     "traceback": [
      "\u001b[1;31m---------------------------------------------------------------------------\u001b[0m",
      "\u001b[1;31mIndexError\u001b[0m                                Traceback (most recent call last)",
      "Cell \u001b[1;32mIn[23], line 4\u001b[0m\n\u001b[0;32m      1\u001b[0m \u001b[38;5;66;03m#Question 9\u001b[39;00m\n\u001b[0;32m      2\u001b[0m \u001b[38;5;66;03m#index error\u001b[39;00m\n\u001b[0;32m      3\u001b[0m \u001b[38;5;28mlist\u001b[39m\u001b[38;5;241m=\u001b[39m[\u001b[38;5;241m23\u001b[39m,\u001b[38;5;241m45\u001b[39m,\u001b[38;5;241m76\u001b[39m,\u001b[38;5;241m12\u001b[39m,\u001b[38;5;241m4\u001b[39m,\u001b[38;5;241m7\u001b[39m,\u001b[38;5;241m9\u001b[39m,\u001b[38;5;241m76\u001b[39m]\n\u001b[1;32m----> 4\u001b[0m \u001b[38;5;28mprint\u001b[39m(\u001b[38;5;28mlist\u001b[39m[\u001b[38;5;241m12\u001b[39m])\n",
      "\u001b[1;31mIndexError\u001b[0m: list index out of range"
     ]
    }
   ],
   "source": [
    "#Question 9\n",
    "#index error\n",
    "list=[23,45,76,12,4,7,9,76]\n",
    "print(list[12])"
   ]
  },
  {
   "cell_type": "code",
   "execution_count": 25,
   "id": "aa40491f",
   "metadata": {},
   "outputs": [
    {
     "ename": "ValueError",
     "evalue": "math domain error",
     "output_type": "error",
     "traceback": [
      "\u001b[1;31m---------------------------------------------------------------------------\u001b[0m",
      "\u001b[1;31mValueError\u001b[0m                                Traceback (most recent call last)",
      "Cell \u001b[1;32mIn[25], line 4\u001b[0m\n\u001b[0;32m      1\u001b[0m \u001b[38;5;66;03m#Question 9\u001b[39;00m\n\u001b[0;32m      2\u001b[0m \u001b[38;5;66;03m#value error\u001b[39;00m\n\u001b[0;32m      3\u001b[0m \u001b[38;5;28;01mimport\u001b[39;00m \u001b[38;5;21;01mmath\u001b[39;00m\n\u001b[1;32m----> 4\u001b[0m math\u001b[38;5;241m.\u001b[39msqrt(\u001b[38;5;241m-\u001b[39m\u001b[38;5;241m1.0\u001b[39m)\n",
      "\u001b[1;31mValueError\u001b[0m: math domain error"
     ]
    }
   ],
   "source": [
    "#Question 9\n",
    "#value error\n",
    "import math\n",
    "math.sqrt(-1.0)"
   ]
  },
  {
   "cell_type": "code",
   "execution_count": 26,
   "id": "7afd2891",
   "metadata": {},
   "outputs": [
    {
     "ename": "NameError",
     "evalue": "name 'x' is not defined",
     "output_type": "error",
     "traceback": [
      "\u001b[1;31m---------------------------------------------------------------------------\u001b[0m",
      "\u001b[1;31mNameError\u001b[0m                                 Traceback (most recent call last)",
      "Cell \u001b[1;32mIn[26], line 3\u001b[0m\n\u001b[0;32m      1\u001b[0m \u001b[38;5;66;03m#Question 9\u001b[39;00m\n\u001b[0;32m      2\u001b[0m \u001b[38;5;66;03m# when x has not been defined\u001b[39;00m\n\u001b[1;32m----> 3\u001b[0m \u001b[38;5;28mprint\u001b[39m(x)\n",
      "\u001b[1;31mNameError\u001b[0m: name 'x' is not defined"
     ]
    }
   ],
   "source": [
    "#Question 9\n",
    "#name error when x has not been defined\n",
    "print(x)"
   ]
  },
  {
   "cell_type": "code",
   "execution_count": 27,
   "id": "cde45496",
   "metadata": {},
   "outputs": [
    {
     "ename": "FileNotFoundError",
     "evalue": "[Errno 2] No such file or directory: 'abc.txt'",
     "output_type": "error",
     "traceback": [
      "\u001b[1;31m---------------------------------------------------------------------------\u001b[0m",
      "\u001b[1;31mFileNotFoundError\u001b[0m                         Traceback (most recent call last)",
      "Cell \u001b[1;32mIn[27], line 3\u001b[0m\n\u001b[0;32m      1\u001b[0m \u001b[38;5;66;03m#Question 9\u001b[39;00m\n\u001b[0;32m      2\u001b[0m \u001b[38;5;66;03m#FileNotFoundError\u001b[39;00m\n\u001b[1;32m----> 3\u001b[0m file \u001b[38;5;241m=\u001b[39m \u001b[38;5;28mopen\u001b[39m(\u001b[38;5;124m'\u001b[39m\u001b[38;5;124mabc.txt\u001b[39m\u001b[38;5;124m'\u001b[39m)\n",
      "File \u001b[1;32m~\\anaconda3\\Lib\\site-packages\\IPython\\core\\interactiveshell.py:286\u001b[0m, in \u001b[0;36m_modified_open\u001b[1;34m(file, *args, **kwargs)\u001b[0m\n\u001b[0;32m    279\u001b[0m \u001b[38;5;28;01mif\u001b[39;00m file \u001b[38;5;129;01min\u001b[39;00m {\u001b[38;5;241m0\u001b[39m, \u001b[38;5;241m1\u001b[39m, \u001b[38;5;241m2\u001b[39m}:\n\u001b[0;32m    280\u001b[0m     \u001b[38;5;28;01mraise\u001b[39;00m \u001b[38;5;167;01mValueError\u001b[39;00m(\n\u001b[0;32m    281\u001b[0m         \u001b[38;5;124mf\u001b[39m\u001b[38;5;124m\"\u001b[39m\u001b[38;5;124mIPython won\u001b[39m\u001b[38;5;124m'\u001b[39m\u001b[38;5;124mt let you open fd=\u001b[39m\u001b[38;5;132;01m{\u001b[39;00mfile\u001b[38;5;132;01m}\u001b[39;00m\u001b[38;5;124m by default \u001b[39m\u001b[38;5;124m\"\u001b[39m\n\u001b[0;32m    282\u001b[0m         \u001b[38;5;124m\"\u001b[39m\u001b[38;5;124mas it is likely to crash IPython. If you know what you are doing, \u001b[39m\u001b[38;5;124m\"\u001b[39m\n\u001b[0;32m    283\u001b[0m         \u001b[38;5;124m\"\u001b[39m\u001b[38;5;124myou can use builtins\u001b[39m\u001b[38;5;124m'\u001b[39m\u001b[38;5;124m open.\u001b[39m\u001b[38;5;124m\"\u001b[39m\n\u001b[0;32m    284\u001b[0m     )\n\u001b[1;32m--> 286\u001b[0m \u001b[38;5;28;01mreturn\u001b[39;00m io_open(file, \u001b[38;5;241m*\u001b[39margs, \u001b[38;5;241m*\u001b[39m\u001b[38;5;241m*\u001b[39mkwargs)\n",
      "\u001b[1;31mFileNotFoundError\u001b[0m: [Errno 2] No such file or directory: 'abc.txt'"
     ]
    }
   ],
   "source": [
    "#Question 9\n",
    "#FileNotFoundError\n",
    "file = open('xyz.txt')"
   ]
  },
  {
   "cell_type": "code",
   "execution_count": 34,
   "id": "d84db4d9",
   "metadata": {},
   "outputs": [
    {
     "name": "stdout",
     "output_type": "stream",
     "text": [
      "Enter text The quick red fox got bored and went home.\n",
      "[1, 1, 1, 3, 5, 1, 1, 2, 1, 0, 1, 0, 1, 2, 4, 0, 1, 2, 0, 3, 1, 0, 1, 1, 0, 0]\n"
     ]
    }
   ],
   "source": [
    "\n",
    "#Question 10\n",
    "def frequencies(value):\n",
    "    letters = 'abcdefghijklmnopqrstuvwxyz'\n",
    "    counts = [0] * len(letters)\n",
    "\n",
    "    for character in value:\n",
    "        \n",
    "        if character.isalpha() and character in letters:\n",
    "            index = letters.index(character)\n",
    "            counts[index] += 1\n",
    "\n",
    "    return counts\n",
    "\n",
    "input_value = input(\"Enter text \");\n",
    "\n",
    "result = frequencies(input_value.lower()) \n",
    "print( result)"
   ]
  },
  {
   "cell_type": "code",
   "execution_count": null,
   "id": "a0540bf9",
   "metadata": {},
   "outputs": [],
   "source": []
  }
 ],
 "metadata": {
  "kernelspec": {
   "display_name": "Python 3 (ipykernel)",
   "language": "python",
   "name": "python3"
  },
  "language_info": {
   "codemirror_mode": {
    "name": "ipython",
    "version": 3
   },
   "file_extension": ".py",
   "mimetype": "text/x-python",
   "name": "python",
   "nbconvert_exporter": "python",
   "pygments_lexer": "ipython3",
   "version": "3.11.5"
  }
 },
 "nbformat": 4,
 "nbformat_minor": 5
}
